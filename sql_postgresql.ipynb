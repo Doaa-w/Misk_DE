{
  "nbformat": 4,
  "nbformat_minor": 0,
  "metadata": {
    "colab": {
      "provenance": []
    },
    "kernelspec": {
      "name": "python3",
      "display_name": "Python 3"
    },
    "language_info": {
      "name": "python"
    }
  },
  "cells": [
    {
      "cell_type": "code",
      "execution_count": 1,
      "metadata": {
        "colab": {
          "base_uri": "https://localhost:8080/"
        },
        "id": "FsUWApZ-zBGz",
        "outputId": "15ac0d64-9563-4449-bcc2-b9a6e4869169"
      },
      "outputs": [
        {
          "output_type": "stream",
          "name": "stdout",
          "text": [
            "\u001b[33m\r0% [Working]\u001b[0m\r            \rGet:1 https://cloud.r-project.org/bin/linux/ubuntu jammy-cran40/ InRelease [3,632 B]\n",
            "Get:2 https://developer.download.nvidia.com/compute/cuda/repos/ubuntu2204/x86_64  InRelease [1,581 B]\n",
            "Hit:3 http://archive.ubuntu.com/ubuntu jammy InRelease\n",
            "Get:4 http://security.ubuntu.com/ubuntu jammy-security InRelease [129 kB]\n",
            "Get:5 https://developer.download.nvidia.com/compute/cuda/repos/ubuntu2204/x86_64  Packages [1,683 kB]\n",
            "Get:6 http://archive.ubuntu.com/ubuntu jammy-updates InRelease [128 kB]\n",
            "Get:7 https://r2u.stat.illinois.edu/ubuntu jammy InRelease [6,555 B]\n",
            "Get:8 https://r2u.stat.illinois.edu/ubuntu jammy/main amd64 Packages [2,726 kB]\n",
            "Hit:9 https://ppa.launchpadcontent.net/deadsnakes/ppa/ubuntu jammy InRelease\n",
            "Hit:10 https://ppa.launchpadcontent.net/graphics-drivers/ppa/ubuntu jammy InRelease\n",
            "Get:11 http://archive.ubuntu.com/ubuntu jammy-backports InRelease [127 kB]\n",
            "Get:12 http://security.ubuntu.com/ubuntu jammy-security/universe amd64 Packages [1,245 kB]\n",
            "Get:13 https://ppa.launchpadcontent.net/ubuntugis/ppa/ubuntu jammy InRelease [24.6 kB]\n",
            "Get:14 http://archive.ubuntu.com/ubuntu jammy-updates/main amd64 Packages [3,255 kB]\n",
            "Get:15 https://ppa.launchpadcontent.net/ubuntugis/ppa/ubuntu jammy/main amd64 Packages [77.3 kB]\n",
            "Get:16 https://r2u.stat.illinois.edu/ubuntu jammy/main all Packages [8,948 kB]\n",
            "Get:17 http://security.ubuntu.com/ubuntu jammy-security/restricted amd64 Packages [4,379 kB]\n",
            "Get:18 http://archive.ubuntu.com/ubuntu jammy-updates/universe amd64 Packages [1,547 kB]\n",
            "Get:19 http://archive.ubuntu.com/ubuntu jammy-updates/restricted amd64 Packages [4,540 kB]\n",
            "Get:20 http://security.ubuntu.com/ubuntu jammy-security/main amd64 Packages [2,940 kB]\n",
            "Get:21 http://archive.ubuntu.com/ubuntu jammy-backports/universe amd64 Packages [35.2 kB]\n",
            "Get:22 http://archive.ubuntu.com/ubuntu jammy-backports/main amd64 Packages [83.2 kB]\n",
            "Fetched 31.9 MB in 8s (4,130 kB/s)\n",
            "Reading package lists... Done\n",
            "Building dependency tree... Done\n",
            "Reading state information... Done\n",
            "89 packages can be upgraded. Run 'apt list --upgradable' to see them.\n",
            "\u001b[1;33mW: \u001b[0mSkipping acquire of configured file 'main/source/Sources' as repository 'https://r2u.stat.illinois.edu/ubuntu jammy InRelease' does not seem to provide it (sources.list entry misspelt?)\u001b[0m\n",
            "Reading package lists... Done\n",
            "Building dependency tree... Done\n",
            "Reading state information... Done\n",
            "The following additional packages will be installed:\n",
            "  libcommon-sense-perl libjson-perl libjson-xs-perl libtypes-serialiser-perl\n",
            "  logrotate netbase postgresql-14 postgresql-client-14\n",
            "  postgresql-client-common postgresql-common ssl-cert sysstat\n",
            "Suggested packages:\n",
            "  bsd-mailx | mailx postgresql-doc postgresql-doc-14 isag\n",
            "The following NEW packages will be installed:\n",
            "  libcommon-sense-perl libjson-perl libjson-xs-perl libtypes-serialiser-perl\n",
            "  logrotate netbase postgresql postgresql-14 postgresql-client-14\n",
            "  postgresql-client-common postgresql-common postgresql-contrib ssl-cert\n",
            "  sysstat\n",
            "0 upgraded, 14 newly installed, 0 to remove and 89 not upgraded.\n",
            "Need to get 18.4 MB of archives.\n",
            "After this operation, 52.0 MB of additional disk space will be used.\n",
            "Get:1 http://archive.ubuntu.com/ubuntu jammy-updates/main amd64 logrotate amd64 3.19.0-1ubuntu1.1 [54.3 kB]\n",
            "Get:2 http://archive.ubuntu.com/ubuntu jammy/main amd64 netbase all 6.3 [12.9 kB]\n",
            "Get:3 http://archive.ubuntu.com/ubuntu jammy/main amd64 libcommon-sense-perl amd64 3.75-2build1 [21.1 kB]\n",
            "Get:4 http://archive.ubuntu.com/ubuntu jammy/main amd64 libjson-perl all 4.04000-1 [81.8 kB]\n",
            "Get:5 http://archive.ubuntu.com/ubuntu jammy/main amd64 libtypes-serialiser-perl all 1.01-1 [11.6 kB]\n",
            "Get:6 http://archive.ubuntu.com/ubuntu jammy/main amd64 libjson-xs-perl amd64 4.030-1build3 [87.2 kB]\n",
            "Get:7 http://archive.ubuntu.com/ubuntu jammy/main amd64 postgresql-client-common all 238 [29.6 kB]\n",
            "Get:8 http://archive.ubuntu.com/ubuntu jammy-updates/main amd64 postgresql-client-14 amd64 14.17-0ubuntu0.22.04.1 [1,246 kB]\n",
            "Get:9 http://archive.ubuntu.com/ubuntu jammy/main amd64 ssl-cert all 1.1.2 [17.4 kB]\n",
            "Get:10 http://archive.ubuntu.com/ubuntu jammy/main amd64 postgresql-common all 238 [169 kB]\n",
            "Get:11 http://archive.ubuntu.com/ubuntu jammy-updates/main amd64 postgresql-14 amd64 14.17-0ubuntu0.22.04.1 [16.2 MB]\n",
            "Get:12 http://archive.ubuntu.com/ubuntu jammy/main amd64 postgresql all 14+238 [3,288 B]\n",
            "Get:13 http://archive.ubuntu.com/ubuntu jammy/main amd64 postgresql-contrib all 14+238 [3,292 B]\n",
            "Get:14 http://archive.ubuntu.com/ubuntu jammy-updates/main amd64 sysstat amd64 12.5.2-2ubuntu0.2 [487 kB]\n",
            "Fetched 18.4 MB in 3s (6,255 kB/s)\n",
            "debconf: unable to initialize frontend: Dialog\n",
            "debconf: (No usable dialog-like program is installed, so the dialog based frontend cannot be used. at /usr/share/perl5/Debconf/FrontEnd/Dialog.pm line 78, <> line 14.)\n",
            "debconf: falling back to frontend: Readline\n",
            "debconf: unable to initialize frontend: Readline\n",
            "debconf: (This frontend requires a controlling tty.)\n",
            "debconf: falling back to frontend: Teletype\n",
            "dpkg-preconfigure: unable to re-open stdin: \n",
            "Selecting previously unselected package logrotate.\n",
            "(Reading database ... 126102 files and directories currently installed.)\n",
            "Preparing to unpack .../00-logrotate_3.19.0-1ubuntu1.1_amd64.deb ...\n",
            "Unpacking logrotate (3.19.0-1ubuntu1.1) ...\n",
            "Selecting previously unselected package netbase.\n",
            "Preparing to unpack .../01-netbase_6.3_all.deb ...\n",
            "Unpacking netbase (6.3) ...\n",
            "Selecting previously unselected package libcommon-sense-perl:amd64.\n",
            "Preparing to unpack .../02-libcommon-sense-perl_3.75-2build1_amd64.deb ...\n",
            "Unpacking libcommon-sense-perl:amd64 (3.75-2build1) ...\n",
            "Selecting previously unselected package libjson-perl.\n",
            "Preparing to unpack .../03-libjson-perl_4.04000-1_all.deb ...\n",
            "Unpacking libjson-perl (4.04000-1) ...\n",
            "Selecting previously unselected package libtypes-serialiser-perl.\n",
            "Preparing to unpack .../04-libtypes-serialiser-perl_1.01-1_all.deb ...\n",
            "Unpacking libtypes-serialiser-perl (1.01-1) ...\n",
            "Selecting previously unselected package libjson-xs-perl.\n",
            "Preparing to unpack .../05-libjson-xs-perl_4.030-1build3_amd64.deb ...\n",
            "Unpacking libjson-xs-perl (4.030-1build3) ...\n",
            "Selecting previously unselected package postgresql-client-common.\n",
            "Preparing to unpack .../06-postgresql-client-common_238_all.deb ...\n",
            "Unpacking postgresql-client-common (238) ...\n",
            "Selecting previously unselected package postgresql-client-14.\n",
            "Preparing to unpack .../07-postgresql-client-14_14.17-0ubuntu0.22.04.1_amd64.deb ...\n",
            "Unpacking postgresql-client-14 (14.17-0ubuntu0.22.04.1) ...\n",
            "Selecting previously unselected package ssl-cert.\n",
            "Preparing to unpack .../08-ssl-cert_1.1.2_all.deb ...\n",
            "Unpacking ssl-cert (1.1.2) ...\n",
            "Selecting previously unselected package postgresql-common.\n",
            "Preparing to unpack .../09-postgresql-common_238_all.deb ...\n",
            "Adding 'diversion of /usr/bin/pg_config to /usr/bin/pg_config.libpq-dev by postgresql-common'\n",
            "Unpacking postgresql-common (238) ...\n",
            "Selecting previously unselected package postgresql-14.\n",
            "Preparing to unpack .../10-postgresql-14_14.17-0ubuntu0.22.04.1_amd64.deb ...\n",
            "Unpacking postgresql-14 (14.17-0ubuntu0.22.04.1) ...\n",
            "Selecting previously unselected package postgresql.\n",
            "Preparing to unpack .../11-postgresql_14+238_all.deb ...\n",
            "Unpacking postgresql (14+238) ...\n",
            "Selecting previously unselected package postgresql-contrib.\n",
            "Preparing to unpack .../12-postgresql-contrib_14+238_all.deb ...\n",
            "Unpacking postgresql-contrib (14+238) ...\n",
            "Selecting previously unselected package sysstat.\n",
            "Preparing to unpack .../13-sysstat_12.5.2-2ubuntu0.2_amd64.deb ...\n",
            "Unpacking sysstat (12.5.2-2ubuntu0.2) ...\n",
            "Setting up logrotate (3.19.0-1ubuntu1.1) ...\n",
            "Created symlink /etc/systemd/system/timers.target.wants/logrotate.timer → /lib/systemd/system/logrotate.timer.\n",
            "Setting up libcommon-sense-perl:amd64 (3.75-2build1) ...\n",
            "Setting up ssl-cert (1.1.2) ...\n",
            "debconf: unable to initialize frontend: Dialog\n",
            "debconf: (No usable dialog-like program is installed, so the dialog based frontend cannot be used. at /usr/share/perl5/Debconf/FrontEnd/Dialog.pm line 78.)\n",
            "debconf: falling back to frontend: Readline\n",
            "Setting up libtypes-serialiser-perl (1.01-1) ...\n",
            "Setting up libjson-perl (4.04000-1) ...\n",
            "Setting up netbase (6.3) ...\n",
            "Setting up sysstat (12.5.2-2ubuntu0.2) ...\n",
            "debconf: unable to initialize frontend: Dialog\n",
            "debconf: (No usable dialog-like program is installed, so the dialog based frontend cannot be used. at /usr/share/perl5/Debconf/FrontEnd/Dialog.pm line 78.)\n",
            "debconf: falling back to frontend: Readline\n",
            "\n",
            "Creating config file /etc/default/sysstat with new version\n",
            "update-alternatives: using /usr/bin/sar.sysstat to provide /usr/bin/sar (sar) in auto mode\n",
            "Created symlink /etc/systemd/system/sysstat.service.wants/sysstat-collect.timer → /lib/systemd/system/sysstat-collect.timer.\n",
            "Created symlink /etc/systemd/system/sysstat.service.wants/sysstat-summary.timer → /lib/systemd/system/sysstat-summary.timer.\n",
            "Created symlink /etc/systemd/system/multi-user.target.wants/sysstat.service → /lib/systemd/system/sysstat.service.\n",
            "Setting up postgresql-client-common (238) ...\n",
            "Setting up libjson-xs-perl (4.030-1build3) ...\n",
            "Setting up postgresql-client-14 (14.17-0ubuntu0.22.04.1) ...\n",
            "update-alternatives: using /usr/share/postgresql/14/man/man1/psql.1.gz to provide /usr/share/man/man1/psql.1.gz (psql.1.gz) in auto mode\n",
            "Setting up postgresql-common (238) ...\n",
            "debconf: unable to initialize frontend: Dialog\n",
            "debconf: (No usable dialog-like program is installed, so the dialog based frontend cannot be used. at /usr/share/perl5/Debconf/FrontEnd/Dialog.pm line 78.)\n",
            "debconf: falling back to frontend: Readline\n",
            "Adding user postgres to group ssl-cert\n",
            "\n",
            "Creating config file /etc/postgresql-common/createcluster.conf with new version\n",
            "Building PostgreSQL dictionaries from installed myspell/hunspell packages...\n",
            "Removing obsolete dictionary files:\n",
            "Created symlink /etc/systemd/system/multi-user.target.wants/postgresql.service → /lib/systemd/system/postgresql.service.\n",
            "Setting up postgresql-14 (14.17-0ubuntu0.22.04.1) ...\n",
            "debconf: unable to initialize frontend: Dialog\n",
            "debconf: (No usable dialog-like program is installed, so the dialog based frontend cannot be used. at /usr/share/perl5/Debconf/FrontEnd/Dialog.pm line 78.)\n",
            "debconf: falling back to frontend: Readline\n",
            "Creating new PostgreSQL cluster 14/main ...\n",
            "/usr/lib/postgresql/14/bin/initdb -D /var/lib/postgresql/14/main --auth-local peer --auth-host scram-sha-256 --no-instructions\n",
            "The files belonging to this database system will be owned by user \"postgres\".\n",
            "This user must also own the server process.\n",
            "\n",
            "The database cluster will be initialized with locale \"en_US.UTF-8\".\n",
            "The default database encoding has accordingly been set to \"UTF8\".\n",
            "The default text search configuration will be set to \"english\".\n",
            "\n",
            "Data page checksums are disabled.\n",
            "\n",
            "fixing permissions on existing directory /var/lib/postgresql/14/main ... ok\n",
            "creating subdirectories ... ok\n",
            "selecting dynamic shared memory implementation ... posix\n",
            "selecting default max_connections ... 100\n",
            "selecting default shared_buffers ... 128MB\n",
            "selecting default time zone ... Etc/UTC\n",
            "creating configuration files ... ok\n",
            "running bootstrap script ... ok\n",
            "performing post-bootstrap initialization ... ok\n",
            "syncing data to disk ... ok\n",
            "update-alternatives: using /usr/share/postgresql/14/man/man1/postmaster.1.gz to provide /usr/share/man/man1/postmaster.1.gz (postmaster.1.gz) in auto mode\n",
            "invoke-rc.d: could not determine current runlevel\n",
            "invoke-rc.d: policy-rc.d denied execution of start.\n",
            "Setting up postgresql-contrib (14+238) ...\n",
            "Setting up postgresql (14+238) ...\n",
            "Processing triggers for man-db (2.10.2-1) ...\n",
            "Collecting psycopg2-binary\n",
            "  Downloading psycopg2_binary-2.9.10-cp311-cp311-manylinux_2_17_x86_64.manylinux2014_x86_64.whl.metadata (4.9 kB)\n",
            "Requirement already satisfied: pandas in /usr/local/lib/python3.11/dist-packages (2.2.2)\n",
            "Requirement already satisfied: numpy>=1.23.2 in /usr/local/lib/python3.11/dist-packages (from pandas) (2.0.2)\n",
            "Requirement already satisfied: python-dateutil>=2.8.2 in /usr/local/lib/python3.11/dist-packages (from pandas) (2.9.0.post0)\n",
            "Requirement already satisfied: pytz>=2020.1 in /usr/local/lib/python3.11/dist-packages (from pandas) (2025.2)\n",
            "Requirement already satisfied: tzdata>=2022.7 in /usr/local/lib/python3.11/dist-packages (from pandas) (2025.2)\n",
            "Requirement already satisfied: six>=1.5 in /usr/local/lib/python3.11/dist-packages (from python-dateutil>=2.8.2->pandas) (1.17.0)\n",
            "Downloading psycopg2_binary-2.9.10-cp311-cp311-manylinux_2_17_x86_64.manylinux2014_x86_64.whl (3.0 MB)\n",
            "\u001b[2K   \u001b[90m━━━━━━━━━━━━━━━━━━━━━━━━━━━━━━━━━━━━━━━━\u001b[0m \u001b[32m3.0/3.0 MB\u001b[0m \u001b[31m24.4 MB/s\u001b[0m eta \u001b[36m0:00:00\u001b[0m\n",
            "\u001b[?25hInstalling collected packages: psycopg2-binary\n",
            "Successfully installed psycopg2-binary-2.9.10\n"
          ]
        }
      ],
      "source": [
        "# Install required packages (uncomment and run if needed)\n",
        "!sudo apt update\n",
        "!sudo apt install postgresql postgresql-contrib\n",
        "!pip install psycopg2-binary pandas\n"
      ]
    },
    {
      "cell_type": "code",
      "source": [
        "#use this in following box, to quit \\q\n",
        "\n",
        "CREATE USER de_user WITH PASSWORD 'de_pass';\n",
        "CREATE DATABASE de_course OWNER de_user;\n",
        "GRANT ALL PRIVILEGES ON DATABASE de_course TO de_user;"
      ],
      "metadata": {
        "id": "YJ_5FghQzu6O"
      },
      "execution_count": null,
      "outputs": []
    },
    {
      "cell_type": "code",
      "source": [
        "!sudo service postgresql start\n",
        "!sudo -u postgres psql\n"
      ],
      "metadata": {
        "colab": {
          "base_uri": "https://localhost:8080/"
        },
        "id": "LfiSxVkXzWJE",
        "outputId": "aa55dfa2-1ca2-4d72-811e-3a934479582d"
      },
      "execution_count": 2,
      "outputs": [
        {
          "output_type": "stream",
          "name": "stdout",
          "text": [
            " * Starting PostgreSQL 14 database server\n",
            "   ...done.\n",
            "psql (14.17 (Ubuntu 14.17-0ubuntu0.22.04.1))\n",
            "Type \"help\" for help.\n",
            "\n",
            "\u001b[?2004hpostgres=# CREATE USER de_user WITH PASSWORD 'de_pass'; CREATE DATABASE de_course OWNER de_user; GRANT ALL PRIVILEGES ON DATABASE de_course TO de_user;\n",
            "CREATE ROLE\n",
            "CREATE DATABASE\n",
            "GRANT\n",
            "\u001b[?2004hpostgres=# \\q\n"
          ]
        }
      ]
    },
    {
      "cell_type": "code",
      "source": [
        "import psycopg2\n",
        "\n",
        "# Connect to the PostgreSQL database\n",
        "conn = psycopg2.connect(\n",
        "    host=\"localhost\",\n",
        "    database=\"de_course\",\n",
        "    user=\"de_user\",\n",
        "    password=\"de_pass\"\n",
        ")\n",
        "\n",
        "cur = conn.cursor()\n",
        "print(\"✅ Connected to PostgreSQL!\")\n"
      ],
      "metadata": {
        "colab": {
          "base_uri": "https://localhost:8080/"
        },
        "id": "bcRnhDOzzkd3",
        "outputId": "9cab3d5f-17f2-4ff9-e99d-c3eb2b8d155a"
      },
      "execution_count": 3,
      "outputs": [
        {
          "output_type": "stream",
          "name": "stdout",
          "text": [
            "✅ Connected to PostgreSQL!\n"
          ]
        }
      ]
    },
    {
      "cell_type": "code",
      "source": [
        "# using faker library to create two csv files, one for orders one for users\n",
        "\n",
        "!pip install Faker pandas\n",
        "from faker import Faker\n",
        "import pandas as pd\n",
        "\n",
        "fake = Faker()\n",
        "\n",
        "# Create Users CSV\n",
        "num_users = 100\n",
        "users_data = []\n",
        "for _ in range(num_users):\n",
        "    users_data.append({\n",
        "        'user_id': fake.unique.random_int(min=1, max=100000),\n",
        "        'username': fake.user_name(),\n",
        "        'email': fake.email(),\n",
        "        'registration_date': fake.date_time_this_year()\n",
        "    })\n",
        "\n",
        "users_df = pd.DataFrame(users_data)\n",
        "users_df.to_csv('users.csv', index=False)\n",
        "print(\"Created users.csv\")\n",
        "\n",
        "# Create Orders CSV\n",
        "num_orders = 500\n",
        "orders_data = []\n",
        "for _ in range(num_orders):\n",
        "    orders_data.append({\n",
        "        'order_id': fake.unique.random_int(min=1, max=500000),\n",
        "        'user_id': fake.random_element(elements=users_df['user_id'].tolist()), # Link to existing user_ids\n",
        "        'order_date': fake.date_time_this_year(),\n",
        "        'total_amount': round(fake.random_number(digits=4, fix_len=False) / 100.0, 2),\n",
        "        'product_name': fake.word() + \" \" + fake.word()\n",
        "    })\n",
        "\n",
        "orders_df = pd.DataFrame(orders_data)\n",
        "orders_df.to_csv('orders.csv', index=False)\n",
        "print(\"Created orders.csv\")\n",
        "\n",
        "# Example: Display first few rows of the created files\n",
        "print(\"\\n--- users.csv ---\")\n",
        "print(users_df.head())\n",
        "\n",
        "print(\"\\n--- orders.csv ---\")\n",
        "print(orders_df.head())"
      ],
      "metadata": {
        "colab": {
          "base_uri": "https://localhost:8080/"
        },
        "id": "V79htBF20uzS",
        "outputId": "b3b42842-d527-4aee-bf39-88332586e522"
      },
      "execution_count": 18,
      "outputs": [
        {
          "output_type": "stream",
          "name": "stdout",
          "text": [
            "Requirement already satisfied: Faker in /usr/local/lib/python3.11/dist-packages (37.3.0)\n",
            "Requirement already satisfied: pandas in /usr/local/lib/python3.11/dist-packages (2.2.2)\n",
            "Requirement already satisfied: tzdata in /usr/local/lib/python3.11/dist-packages (from Faker) (2025.2)\n",
            "Requirement already satisfied: numpy>=1.23.2 in /usr/local/lib/python3.11/dist-packages (from pandas) (2.0.2)\n",
            "Requirement already satisfied: python-dateutil>=2.8.2 in /usr/local/lib/python3.11/dist-packages (from pandas) (2.9.0.post0)\n",
            "Requirement already satisfied: pytz>=2020.1 in /usr/local/lib/python3.11/dist-packages (from pandas) (2025.2)\n",
            "Requirement already satisfied: six>=1.5 in /usr/local/lib/python3.11/dist-packages (from python-dateutil>=2.8.2->pandas) (1.17.0)\n",
            "Created users.csv\n",
            "Created orders.csv\n",
            "\n",
            "--- users.csv ---\n",
            "   user_id         username                       email  \\\n",
            "0    85194    davisjennifer     wilcoxjenny@example.org   \n",
            "1    43961        rebecca37  collinsmatthew@example.org   \n",
            "2    84150         steven81      paulwilson@example.com   \n",
            "3     7996  jasminecarrillo          colson@example.net   \n",
            "4    89840     jeffreysmith       jeffrey93@example.net   \n",
            "\n",
            "           registration_date  \n",
            "0 2025-02-13 10:47:57.135925  \n",
            "1 2025-02-20 13:14:20.053655  \n",
            "2 2025-01-22 15:51:01.806412  \n",
            "3 2025-02-14 22:09:48.378276  \n",
            "4 2025-04-18 00:15:57.551806  \n",
            "\n",
            "--- orders.csv ---\n",
            "   order_id  user_id                 order_date  total_amount  \\\n",
            "0    174845    95692 2025-04-06 11:11:05.697651         58.99   \n",
            "1    225459     6342 2025-04-02 15:54:18.416565         45.75   \n",
            "2    170092    57248 2025-03-25 01:18:09.647095         71.64   \n",
            "3    211303    20236 2025-05-18 12:52:09.813660         54.26   \n",
            "4     61100    62017 2025-01-14 00:24:42.523763         18.69   \n",
            "\n",
            "        product_name  \n",
            "0     while security  \n",
            "1         good human  \n",
            "2  interesting board  \n",
            "3      open specific  \n",
            "4         month task  \n"
          ]
        }
      ]
    },
    {
      "source": [
        "# Drop tables if they exist\n",
        "# If a previous command failed, the transaction might be aborted.\n",
        "# Rollback the transaction to clear the error state.\n",
        "conn.rollback()\n",
        "cur.execute(\"DROP TABLE IF EXISTS orders;\")\n",
        "cur.execute(\"DROP TABLE IF EXISTS users;\")\n",
        "\n",
        "# Create tables\n",
        "cur.execute(\"\"\"\n",
        "CREATE TABLE users (\n",
        "    user_id INT PRIMARY KEY,\n",
        "    username TEXT,\n",
        "    email TEXT,\n",
        "    registration_date DATE\n",
        ");\n",
        "\"\"\")\n",
        "\n",
        "cur.execute(\"\"\"\n",
        "CREATE TABLE orders (\n",
        "    order_id INT PRIMARY KEY,\n",
        "    user_id INT REFERENCES users(user_id),\n",
        "    total_amount NUMERIC,\n",
        "    order_date DATE,\n",
        "    product_name TEXT\n",
        ");\n",
        "\"\"\")\n",
        "\n",
        "conn.commit()\n",
        "print(\"✅ Tables created!\")"
      ],
      "cell_type": "code",
      "metadata": {
        "colab": {
          "base_uri": "https://localhost:8080/"
        },
        "id": "IvroU7N9321-",
        "outputId": "19372b99-9fa9-4da3-c96c-65db5082fe3f"
      },
      "execution_count": 42,
      "outputs": [
        {
          "output_type": "stream",
          "name": "stdout",
          "text": [
            "✅ Tables created!\n"
          ]
        }
      ]
    },
    {
      "source": [
        "# Read from CSVs created using Faker\n",
        "import pandas as pd\n",
        "\n",
        "users_df = pd.read_csv(\"users.csv\")  # Path to your users data\n",
        "orders_df = pd.read_csv(\"orders.csv\")  # Path to your orders data\n",
        "\n",
        "# Insert into users\n",
        "for _, row in users_df.iterrows():\n",
        "    cur.execute(\"INSERT INTO users VALUES (%s, %s, %s, %s)\", tuple(row))\n",
        "\n",
        "# Insert into orders\n",
        "# Ensure the column order in the tuple matches the table definition:\n",
        "# order_id INT, user_id INT, total_amount NUMERIC, order_date DATE, product_name TEXT\n",
        "for _, row in orders_df.iterrows():\n",
        "    cur.execute(\n",
        "        \"INSERT INTO orders (order_id, user_id, total_amount, order_date, product_name) VALUES (%s, %s, %s, %s, %s)\",\n",
        "        (row['order_id'], row['user_id'], row['total_amount'], row['order_date'], row['product_name'])\n",
        "    )\n",
        "\n",
        "conn.commit()\n",
        "print(\"✅ Sample data inserted!\")"
      ],
      "cell_type": "code",
      "metadata": {
        "colab": {
          "base_uri": "https://localhost:8080/"
        },
        "id": "f5iJ6h774Ena",
        "outputId": "322c53a2-d057-45a2-de18-47ab5251de9c"
      },
      "execution_count": 43,
      "outputs": [
        {
          "output_type": "stream",
          "name": "stdout",
          "text": [
            "✅ Sample data inserted!\n"
          ]
        }
      ]
    },
    {
      "cell_type": "code",
      "source": [
        "# Basic SELECT\n",
        "cur.execute(\"SELECT * FROM users;\")\n",
        "for row in cur.fetchall():\n",
        "    print(row)\n"
      ],
      "metadata": {
        "colab": {
          "base_uri": "https://localhost:8080/"
        },
        "id": "hUpNWLHd0k37",
        "outputId": "016a0410-a625-4bf9-dcf7-4e3cab406b52"
      },
      "execution_count": 44,
      "outputs": [
        {
          "output_type": "stream",
          "name": "stdout",
          "text": [
            "(85194, 'davisjennifer', 'wilcoxjenny@example.org', datetime.date(2025, 2, 13))\n",
            "(43961, 'rebecca37', 'collinsmatthew@example.org', datetime.date(2025, 2, 20))\n",
            "(84150, 'steven81', 'paulwilson@example.com', datetime.date(2025, 1, 22))\n",
            "(7996, 'jasminecarrillo', 'colson@example.net', datetime.date(2025, 2, 14))\n",
            "(89840, 'jeffreysmith', 'jeffrey93@example.net', datetime.date(2025, 4, 18))\n",
            "(5421, 'mcintyremaria', 'richardmorris@example.net', datetime.date(2025, 4, 8))\n",
            "(29843, 'kathy36', 'sjenkins@example.net', datetime.date(2025, 4, 12))\n",
            "(95031, 'wharrison', 'holmesamanda@example.org', datetime.date(2025, 5, 12))\n",
            "(75080, 'esmith', 'amandabailey@example.net', datetime.date(2025, 4, 8))\n",
            "(62963, 'tlucas', 'maustin@example.org', datetime.date(2025, 3, 20))\n",
            "(98399, 'amy46', 'aguilartimothy@example.net', datetime.date(2025, 3, 11))\n",
            "(82363, 'harrellroger', 'carolsmith@example.com', datetime.date(2025, 3, 14))\n",
            "(25853, 'wallacecorey', 'xlee@example.org', datetime.date(2025, 1, 9))\n",
            "(33688, 'robersonpamela', 'davidsonanthony@example.org', datetime.date(2025, 4, 27))\n",
            "(37772, 'meganallen', 'alecgiles@example.com', datetime.date(2025, 3, 19))\n",
            "(80824, 'rogershenry', 'nicole04@example.net', datetime.date(2025, 1, 7))\n",
            "(97085, 'raymond80', 'ashleyvilla@example.net', datetime.date(2025, 4, 12))\n",
            "(97204, 'qlawson', 'freemanalexander@example.org', datetime.date(2025, 1, 5))\n",
            "(6583, 'gordonsarah', 'timothyharper@example.com', datetime.date(2025, 4, 6))\n",
            "(47004, 'cindy20', 'melissa19@example.net', datetime.date(2025, 2, 24))\n",
            "(6462, 'graykatherine', 'levinekrista@example.com', datetime.date(2025, 2, 23))\n",
            "(20536, 'lindasimpson', 'tonya77@example.net', datetime.date(2025, 2, 3))\n",
            "(21275, 'umccoy', 'johnsonjessica@example.org', datetime.date(2025, 1, 12))\n",
            "(57248, 'adamsbelinda', 'yangbenjamin@example.com', datetime.date(2025, 4, 3))\n",
            "(37639, 'brooke29', 'barbara80@example.net', datetime.date(2025, 2, 19))\n",
            "(20425, 'omorrison', 'douglasortiz@example.net', datetime.date(2025, 4, 20))\n",
            "(63900, 'rebeccabryant', 'leerobert@example.org', datetime.date(2025, 3, 10))\n",
            "(71181, 'ysmith', 'kirkspencer@example.net', datetime.date(2025, 3, 19))\n",
            "(32455, 'caleblin', 'hannah03@example.org', datetime.date(2025, 4, 25))\n",
            "(50968, 'barrydean', 'whitesue@example.net', datetime.date(2025, 3, 17))\n",
            "(35898, 'marquezwilliam', 'hawkinsjohn@example.net', datetime.date(2025, 2, 8))\n",
            "(98062, 'yorkkaren', 'fking@example.com', datetime.date(2025, 2, 12))\n",
            "(63778, 'gregolson', 'gordonwilliam@example.com', datetime.date(2025, 4, 5))\n",
            "(75182, 'carolyn35', 'herreraanthony@example.org', datetime.date(2025, 2, 6))\n",
            "(54570, 'james05', 'holly94@example.com', datetime.date(2025, 3, 19))\n",
            "(50250, 'williamclark', 'kimberly59@example.net', datetime.date(2025, 3, 25))\n",
            "(98774, 'danielle81', 'petersjoseph@example.com', datetime.date(2025, 4, 23))\n",
            "(11493, 'jamesknapp', 'olsenmelanie@example.com', datetime.date(2025, 4, 4))\n",
            "(89325, 'kochlarry', 'jenkinskristina@example.org', datetime.date(2025, 1, 12))\n",
            "(35404, 'erichardson', 'ronald02@example.net', datetime.date(2025, 1, 4))\n",
            "(84204, 'gutierrezdavid', 'pchapman@example.com', datetime.date(2025, 1, 1))\n",
            "(18481, 'jessica72', 'wandariddle@example.com', datetime.date(2025, 4, 17))\n",
            "(94817, 'dawn11', 'holtjay@example.org', datetime.date(2025, 3, 20))\n",
            "(67170, 'hwashington', 'antoniocortez@example.org', datetime.date(2025, 1, 12))\n",
            "(97296, 'sarah11', 'nelsonjohn@example.org', datetime.date(2025, 3, 13))\n",
            "(35720, 'nicholas03', 'darryl75@example.org', datetime.date(2025, 5, 3))\n",
            "(4221, 'matthew16', 'marieerickson@example.org', datetime.date(2025, 5, 11))\n",
            "(85537, 'nealbradley', 'jaimemiller@example.net', datetime.date(2025, 3, 4))\n",
            "(55960, 'emilyharvey', 'jamesmercado@example.com', datetime.date(2025, 4, 4))\n",
            "(50229, 'msexton', 'stacy77@example.com', datetime.date(2025, 5, 4))\n",
            "(34190, 'ibrown', 'stoutgeorge@example.org', datetime.date(2025, 2, 2))\n",
            "(70765, 'fdominguez', 'dparks@example.net', datetime.date(2025, 1, 1))\n",
            "(20159, 'haley68', 'robinwilliams@example.org', datetime.date(2025, 3, 18))\n",
            "(21731, 'coxmary', 'adrian36@example.com', datetime.date(2025, 1, 14))\n",
            "(21641, 'abray', 'bryan40@example.org', datetime.date(2025, 4, 16))\n",
            "(50576, 'daltonrobert', 'williampeters@example.org', datetime.date(2025, 3, 16))\n",
            "(15428, 'williambowman', 'kempmichael@example.org', datetime.date(2025, 1, 10))\n",
            "(47158, 'regina75', 'larry19@example.com', datetime.date(2025, 1, 24))\n",
            "(38337, 'matthewjackson', 'anthonylewis@example.net', datetime.date(2025, 4, 9))\n",
            "(63416, 'garciaamy', 'joan38@example.org', datetime.date(2025, 4, 4))\n",
            "(95692, 'sergio82', 'tanyamaldonado@example.org', datetime.date(2025, 4, 14))\n",
            "(55274, 'reedsharon', 'zcox@example.net', datetime.date(2025, 4, 27))\n",
            "(10489, 'misty63', 'sullivankayla@example.com', datetime.date(2025, 3, 19))\n",
            "(6342, 'smcpherson', 'apeters@example.org', datetime.date(2025, 2, 2))\n",
            "(62017, 'brownmadison', 'uevans@example.org', datetime.date(2025, 2, 9))\n",
            "(25018, 'timothybooker', 'danielle90@example.com', datetime.date(2025, 4, 22))\n",
            "(7715, 'georgekeith', 'hunterdenise@example.org', datetime.date(2025, 2, 10))\n",
            "(73311, 'reidsharon', 'zdouglas@example.org', datetime.date(2025, 3, 12))\n",
            "(20236, 'laura04', 'herringmark@example.com', datetime.date(2025, 2, 24))\n",
            "(65575, 'npearson', 'odomisaiah@example.org', datetime.date(2025, 1, 31))\n",
            "(19183, 'meyerswhitney', 'ahartman@example.org', datetime.date(2025, 2, 4))\n",
            "(503, 'patrickross', 'kelly60@example.org', datetime.date(2025, 1, 6))\n",
            "(12980, 'jamesgallagher', 'megan42@example.org', datetime.date(2025, 4, 30))\n",
            "(81769, 'mitchellparker', 'shaunmiller@example.org', datetime.date(2025, 5, 1))\n",
            "(88403, 'hbutler', 'fryan@example.com', datetime.date(2025, 2, 19))\n",
            "(49724, 'ashley42', 'joshua97@example.com', datetime.date(2025, 2, 3))\n",
            "(7703, 'josephmolina', 'karenmorrow@example.net', datetime.date(2025, 3, 28))\n",
            "(11496, 'vrodriguez', 'shelley87@example.net', datetime.date(2025, 1, 5))\n",
            "(51373, 'fleon', 'fblackburn@example.com', datetime.date(2025, 3, 2))\n",
            "(63281, 'lsmith', 'garciaraven@example.net', datetime.date(2025, 3, 21))\n",
            "(55777, 'nataliebuchanan', 'patricia78@example.com', datetime.date(2025, 4, 5))\n",
            "(15602, 'victoriadalton', 'buckleyjames@example.com', datetime.date(2025, 4, 3))\n",
            "(59772, 'stricklandmegan', 'jacob46@example.net', datetime.date(2025, 3, 21))\n",
            "(77495, 'hodgesluis', 'esteschristopher@example.org', datetime.date(2025, 2, 9))\n",
            "(44195, 'cdoyle', 'nortonana@example.com', datetime.date(2025, 3, 22))\n",
            "(65894, 'travisbarajas', 'powerskelly@example.com', datetime.date(2025, 3, 9))\n",
            "(48274, 'pricechristopher', 'sabrina39@example.org', datetime.date(2025, 4, 16))\n",
            "(2870, 'jessica50', 'hallpaul@example.com', datetime.date(2025, 1, 29))\n",
            "(23749, 'obrienrobert', 'sierraoneal@example.com', datetime.date(2025, 4, 23))\n",
            "(55548, 'lewiskelly', 'jose42@example.com', datetime.date(2025, 4, 22))\n",
            "(93519, 'hughesdiamond', 'christopher43@example.net', datetime.date(2025, 1, 27))\n",
            "(56127, 'penaanita', 'juanhopkins@example.net', datetime.date(2025, 2, 18))\n",
            "(64737, 'rbrown', 'qramirez@example.net', datetime.date(2025, 2, 5))\n",
            "(63683, 'bdelacruz', 'hannahrichardson@example.com', datetime.date(2025, 5, 18))\n",
            "(77212, 'gardnercharles', 'kaitlynolson@example.com', datetime.date(2025, 1, 3))\n",
            "(38964, 'michael24', 'yvette30@example.com', datetime.date(2025, 4, 10))\n",
            "(26346, 'buckleyjohn', 'kleinjill@example.org', datetime.date(2025, 2, 18))\n",
            "(93390, 'daniel67', 'jefferybrown@example.net', datetime.date(2025, 3, 8))\n",
            "(24320, 'ahurst', 'srhodes@example.net', datetime.date(2025, 3, 25))\n",
            "(88065, 'sgoodman', 'jonesjeanne@example.org', datetime.date(2025, 3, 26))\n"
          ]
        }
      ]
    },
    {
      "cell_type": "code",
      "source": [
        "# Filtering\n",
        "cur.execute(\"SELECT * FROM orders WHERE total_amount > 80;\")\n",
        "print(cur.fetchall())\n"
      ],
      "metadata": {
        "colab": {
          "base_uri": "https://localhost:8080/"
        },
        "id": "5DC4aJ4J4U3M",
        "outputId": "259571f5-ce7e-4f72-f246-33e8d32b0756"
      },
      "execution_count": 45,
      "outputs": [
        {
          "output_type": "stream",
          "name": "stdout",
          "text": [
            "[(169059, 21641, Decimal('92.17'), datetime.date(2025, 5, 2), 'collection modern'), (417253, 24320, Decimal('80.35'), datetime.date(2025, 1, 28), 'outside loss'), (253134, 77212, Decimal('99.2'), datetime.date(2025, 1, 15), 'attack again'), (313646, 21641, Decimal('98.6'), datetime.date(2025, 3, 7), 'occur pressure'), (203212, 2870, Decimal('94.05'), datetime.date(2025, 3, 16), 'office boy'), (107629, 84204, Decimal('97.53'), datetime.date(2025, 1, 21), 'history power'), (25978, 75080, Decimal('85.76'), datetime.date(2025, 3, 20), 'movie detail'), (191444, 20536, Decimal('91.34'), datetime.date(2025, 1, 30), 'possible total'), (16652, 6342, Decimal('99.64'), datetime.date(2025, 2, 20), 'increase century'), (243606, 84150, Decimal('86.42'), datetime.date(2025, 5, 1), 'case pretty'), (174782, 98062, Decimal('89.92'), datetime.date(2025, 3, 11), 'commercial morning'), (297900, 54570, Decimal('86.19'), datetime.date(2025, 1, 12), 'modern research'), (151046, 85537, Decimal('94.72'), datetime.date(2025, 3, 16), 'remain have'), (217831, 59772, Decimal('93.09'), datetime.date(2025, 4, 25), 'trouble they'), (362046, 95692, Decimal('95.86'), datetime.date(2025, 4, 3), 'democratic Democrat'), (325098, 84204, Decimal('96.4'), datetime.date(2025, 3, 18), 'why person'), (274710, 75182, Decimal('93.43'), datetime.date(2025, 2, 6), 'change arm'), (62436, 63683, Decimal('89.68'), datetime.date(2025, 5, 11), 'key main'), (153794, 97204, Decimal('86.45'), datetime.date(2025, 3, 2), 'part upon'), (316361, 63281, Decimal('97.7'), datetime.date(2025, 4, 17), 'into enter'), (45994, 88403, Decimal('84.64'), datetime.date(2025, 5, 9), 'by money'), (155432, 7715, Decimal('96.41'), datetime.date(2025, 5, 16), 'democratic picture'), (181683, 503, Decimal('89.51'), datetime.date(2025, 2, 6), 'light trip'), (356795, 55274, Decimal('80.21'), datetime.date(2025, 3, 6), 'trip able'), (384353, 32455, Decimal('93.91'), datetime.date(2025, 1, 26), 'six first'), (495072, 89325, Decimal('82.58'), datetime.date(2025, 4, 7), 'choose outside'), (55265, 49724, Decimal('91.07'), datetime.date(2025, 4, 21), 'special grow'), (433064, 6342, Decimal('86.15'), datetime.date(2025, 2, 2), 'probably develop'), (303204, 95692, Decimal('87.56'), datetime.date(2025, 4, 10), 'heart knowledge'), (38442, 26346, Decimal('98.45'), datetime.date(2025, 5, 4), 'large sometimes'), (244061, 21275, Decimal('92.8'), datetime.date(2025, 2, 24), 'avoid movement'), (253277, 44195, Decimal('87.39'), datetime.date(2025, 5, 3), 'debate receive'), (388080, 64737, Decimal('92.11'), datetime.date(2025, 1, 16), 'feel general'), (142452, 38964, Decimal('84.87'), datetime.date(2025, 4, 29), 'identify believe'), (19153, 5421, Decimal('94.32'), datetime.date(2025, 2, 13), 'according beautiful'), (236651, 38337, Decimal('92.15'), datetime.date(2025, 4, 28), 'both improve'), (82122, 34190, Decimal('80.83'), datetime.date(2025, 2, 2), 'memory deal'), (48532, 85194, Decimal('96.8'), datetime.date(2025, 1, 27), 'those mouth'), (321582, 20425, Decimal('90.61'), datetime.date(2025, 2, 21), 'great military'), (215228, 88403, Decimal('81.49'), datetime.date(2025, 4, 18), 'thing occur'), (181114, 89325, Decimal('93.08'), datetime.date(2025, 5, 15), 'while fill'), (224735, 6583, Decimal('93.41'), datetime.date(2025, 3, 28), 'their write'), (368923, 63900, Decimal('93.51'), datetime.date(2025, 1, 29), 'seven every'), (155915, 34190, Decimal('90.92'), datetime.date(2025, 5, 10), 'throughout upon'), (148455, 20536, Decimal('92.82'), datetime.date(2025, 5, 19), 'imagine before'), (131310, 88403, Decimal('82.76'), datetime.date(2025, 2, 15), 'cause bar'), (147811, 50576, Decimal('99.9'), datetime.date(2025, 4, 23), 'example nor'), (362729, 6583, Decimal('81.53'), datetime.date(2025, 4, 22), 'mouth window'), (374022, 63900, Decimal('91.82'), datetime.date(2025, 3, 8), 'amount coach'), (411993, 50229, Decimal('87.42'), datetime.date(2025, 3, 10), 'door view'), (486360, 98399, Decimal('98.22'), datetime.date(2025, 4, 21), 'create hope'), (219695, 50250, Decimal('83.81'), datetime.date(2025, 1, 13), 'area big'), (467984, 47004, Decimal('90.64'), datetime.date(2025, 4, 6), 'let class'), (263138, 20159, Decimal('89.69'), datetime.date(2025, 3, 29), 'none work'), (425514, 48274, Decimal('88.32'), datetime.date(2025, 4, 4), 'let production'), (272988, 89325, Decimal('82.36'), datetime.date(2025, 2, 14), 'pretty appear'), (374507, 20425, Decimal('93.72'), datetime.date(2025, 2, 14), 'sign pay'), (382700, 7996, Decimal('94.22'), datetime.date(2025, 4, 2), 'from clearly'), (136234, 77495, Decimal('96.06'), datetime.date(2025, 5, 6), 'many probably'), (419892, 6462, Decimal('90.06'), datetime.date(2025, 2, 18), 'wrong guy'), (202216, 18481, Decimal('82.59'), datetime.date(2025, 4, 29), 'address set'), (121414, 98774, Decimal('83.8'), datetime.date(2025, 1, 22), 'fine require'), (248441, 6462, Decimal('99.9'), datetime.date(2025, 4, 15), 'record late'), (150389, 64737, Decimal('98.49'), datetime.date(2025, 1, 25), 'arm sport'), (108779, 38337, Decimal('85.81'), datetime.date(2025, 4, 23), 'apply receive'), (304156, 7715, Decimal('86.12'), datetime.date(2025, 1, 9), 'agree position'), (426555, 85537, Decimal('99.38'), datetime.date(2025, 4, 3), 'interview radio'), (244964, 95031, Decimal('91.99'), datetime.date(2025, 2, 17), 'voice me'), (376630, 20236, Decimal('80.36'), datetime.date(2025, 4, 27), 'top head'), (18700, 63416, Decimal('85.36'), datetime.date(2025, 5, 3), 'usually sometimes'), (442058, 32455, Decimal('81.28'), datetime.date(2025, 5, 18), 'property participant'), (106491, 95692, Decimal('85.14'), datetime.date(2025, 4, 16), 'baby one'), (127907, 93519, Decimal('96.61'), datetime.date(2025, 3, 28), 'right build'), (273523, 55777, Decimal('94.41'), datetime.date(2025, 5, 3), 'growth about'), (180340, 63900, Decimal('96.82'), datetime.date(2025, 1, 8), 'support science'), (129852, 21275, Decimal('82.41'), datetime.date(2025, 5, 4), 'day per'), (42103, 55777, Decimal('84.03'), datetime.date(2025, 2, 14), 'money lawyer'), (255190, 98062, Decimal('89.83'), datetime.date(2025, 1, 29), 'newspaper control'), (350029, 55274, Decimal('80.82'), datetime.date(2025, 1, 30), 'near red'), (154801, 4221, Decimal('90.82'), datetime.date(2025, 2, 5), 'short near'), (51926, 6342, Decimal('80.55'), datetime.date(2025, 1, 3), 'old ahead'), (265627, 98062, Decimal('88.9'), datetime.date(2025, 2, 12), 'environmental bill'), (181868, 63778, Decimal('81.39'), datetime.date(2025, 2, 6), 'south it'), (221911, 29843, Decimal('95.38'), datetime.date(2025, 4, 27), 'especially push'), (379527, 48274, Decimal('96.24'), datetime.date(2025, 3, 9), 'require ability'), (450501, 77495, Decimal('91.1'), datetime.date(2025, 5, 18), 'he per'), (115818, 88065, Decimal('95.34'), datetime.date(2025, 1, 18), 'enjoy miss'), (433257, 37772, Decimal('82.23'), datetime.date(2025, 5, 3), 'gun society'), (66929, 57248, Decimal('97.3'), datetime.date(2025, 4, 28), 'glass thousand'), (90672, 20159, Decimal('95.58'), datetime.date(2025, 1, 28), 'always family'), (127127, 97204, Decimal('88.49'), datetime.date(2025, 2, 23), 'reach be'), (78857, 21641, Decimal('90.31'), datetime.date(2025, 5, 6), 'morning budget'), (192880, 44195, Decimal('81.18'), datetime.date(2025, 1, 9), 'and perform'), (101931, 50576, Decimal('85.02'), datetime.date(2025, 4, 20), 'focus truth'), (440350, 11493, Decimal('99.07'), datetime.date(2025, 1, 5), 'try garden'), (140354, 98062, Decimal('93.03'), datetime.date(2025, 5, 3), 'president wall'), (313120, 26346, Decimal('80.89'), datetime.date(2025, 1, 4), 'big blood'), (420924, 75182, Decimal('85.58'), datetime.date(2025, 3, 3), 'television reveal'), (244060, 4221, Decimal('94.57'), datetime.date(2025, 1, 23), 'adult easy'), (449537, 50250, Decimal('87.65'), datetime.date(2025, 1, 30), 'along under'), (94803, 7715, Decimal('93.45'), datetime.date(2025, 1, 31), 'note for'), (22459, 25018, Decimal('90.29'), datetime.date(2025, 2, 7), 'seven protect'), (98795, 44195, Decimal('99.46'), datetime.date(2025, 1, 10), 'dog he')]\n"
          ]
        }
      ]
    },
    {
      "cell_type": "code",
      "source": [
        "# Sorting and limiting\n",
        "cur.execute(\"SELECT * FROM orders ORDER BY total_amount DESC LIMIT 5;\")\n",
        "print(cur.fetchall())"
      ],
      "metadata": {
        "colab": {
          "base_uri": "https://localhost:8080/"
        },
        "id": "m8HSeRJi4Yi7",
        "outputId": "56f73c35-e302-40fe-8661-2cf60d902100"
      },
      "execution_count": 46,
      "outputs": [
        {
          "output_type": "stream",
          "name": "stdout",
          "text": [
            "[(248441, 6462, Decimal('99.9'), datetime.date(2025, 4, 15), 'record late'), (147811, 50576, Decimal('99.9'), datetime.date(2025, 4, 23), 'example nor'), (16652, 6342, Decimal('99.64'), datetime.date(2025, 2, 20), 'increase century'), (98795, 44195, Decimal('99.46'), datetime.date(2025, 1, 10), 'dog he'), (426555, 85537, Decimal('99.38'), datetime.date(2025, 4, 3), 'interview radio')]\n"
          ]
        }
      ]
    },
    {
      "cell_type": "code",
      "source": [
        "# JOIN users and orders\n",
        "conn.rollback() # لو علق\n",
        "cur.execute(\"\"\"\n",
        "SELECT users.username, orders.total_amount, orders.order_date\n",
        "FROM users\n",
        "JOIN orders ON users.user_id = orders.user_id;\n",
        "\"\"\")\n",
        "print(cur.fetchall())"
      ],
      "metadata": {
        "colab": {
          "base_uri": "https://localhost:8080/"
        },
        "id": "m2nfPPAU438E",
        "outputId": "4ec9efcb-00e4-4c56-e218-9f025d54b60a"
      },
      "execution_count": 49,
      "outputs": [
        {
          "output_type": "stream",
          "name": "stdout",
          "text": [
            "[('sergio82', Decimal('58.99'), datetime.date(2025, 4, 6)), ('smcpherson', Decimal('45.75'), datetime.date(2025, 4, 2)), ('adamsbelinda', Decimal('71.64'), datetime.date(2025, 3, 25)), ('laura04', Decimal('54.26'), datetime.date(2025, 5, 18)), ('brownmadison', Decimal('18.69'), datetime.date(2025, 1, 14)), ('nataliebuchanan', Decimal('75.41'), datetime.date(2025, 3, 19)), ('abray', Decimal('92.17'), datetime.date(2025, 5, 2)), ('rbrown', Decimal('1.33'), datetime.date(2025, 4, 13)), ('gardnercharles', Decimal('41.36'), datetime.date(2025, 1, 17)), ('fdominguez', Decimal('43.06'), datetime.date(2025, 5, 6)), ('gordonsarah', Decimal('71.81'), datetime.date(2025, 1, 13)), ('ahurst', Decimal('80.35'), datetime.date(2025, 1, 28)), ('rogershenry', Decimal('72.76'), datetime.date(2025, 4, 18)), ('mcintyremaria', Decimal('15.7'), datetime.date(2025, 2, 10)), ('travisbarajas', Decimal('52.39'), datetime.date(2025, 1, 14)), ('barrydean', Decimal('2.74'), datetime.date(2025, 3, 29)), ('gardnercharles', Decimal('99.2'), datetime.date(2025, 1, 15)), ('abray', Decimal('98.6'), datetime.date(2025, 3, 7)), ('vrodriguez', Decimal('16.35'), datetime.date(2025, 2, 9)), ('cindy20', Decimal('16.79'), datetime.date(2025, 5, 8)), ('smcpherson', Decimal('17.89'), datetime.date(2025, 2, 8)), ('pricechristopher', Decimal('18.05'), datetime.date(2025, 1, 22)), ('cindy20', Decimal('10.13'), datetime.date(2025, 1, 15)), ('rebeccabryant', Decimal('38.85'), datetime.date(2025, 2, 21)), ('ysmith', Decimal('3.66'), datetime.date(2025, 5, 6)), ('jessica50', Decimal('94.05'), datetime.date(2025, 3, 16)), ('graykatherine', Decimal('14.59'), datetime.date(2025, 5, 17)), ('esmith', Decimal('44.99'), datetime.date(2025, 2, 18)), ('gutierrezdavid', Decimal('97.53'), datetime.date(2025, 1, 21)), ('ysmith', Decimal('44.62'), datetime.date(2025, 1, 2)), ('rebeccabryant', Decimal('77.33'), datetime.date(2025, 3, 31)), ('jasminecarrillo', Decimal('74.79'), datetime.date(2025, 1, 16)), ('gregolson', Decimal('15.51'), datetime.date(2025, 1, 14)), ('josephmolina', Decimal('66.98'), datetime.date(2025, 2, 6)), ('rebecca37', Decimal('27.71'), datetime.date(2025, 1, 15)), ('graykatherine', Decimal('9.47'), datetime.date(2025, 2, 28)), ('danielle81', Decimal('14.64'), datetime.date(2025, 5, 7)), ('esmith', Decimal('11.03'), datetime.date(2025, 5, 17)), ('hughesdiamond', Decimal('26.05'), datetime.date(2025, 4, 16)), ('caleblin', Decimal('15.28'), datetime.date(2025, 4, 16)), ('lewiskelly', Decimal('0.67'), datetime.date(2025, 3, 12)), ('dawn11', Decimal('40.1'), datetime.date(2025, 5, 5)), ('josephmolina', Decimal('58.88'), datetime.date(2025, 4, 3)), ('mcintyremaria', Decimal('51.88'), datetime.date(2025, 4, 26)), ('matthew16', Decimal('20.6'), datetime.date(2025, 1, 27)), ('esmith', Decimal('85.76'), datetime.date(2025, 3, 20)), ('ibrown', Decimal('58.78'), datetime.date(2025, 3, 12)), ('laura04', Decimal('31.17'), datetime.date(2025, 1, 16)), ('rebecca37', Decimal('3.19'), datetime.date(2025, 5, 15)), ('omorrison', Decimal('50.95'), datetime.date(2025, 4, 20)), ('gutierrezdavid', Decimal('16.64'), datetime.date(2025, 2, 6)), ('meyerswhitney', Decimal('71.47'), datetime.date(2025, 4, 30)), ('lindasimpson', Decimal('91.34'), datetime.date(2025, 1, 30)), ('hwashington', Decimal('35.74'), datetime.date(2025, 4, 14)), ('hwashington', Decimal('16.02'), datetime.date(2025, 4, 27)), ('smcpherson', Decimal('99.64'), datetime.date(2025, 2, 20)), ('williambowman', Decimal('49.17'), datetime.date(2025, 2, 19)), ('hwashington', Decimal('6.57'), datetime.date(2025, 2, 28)), ('josephmolina', Decimal('4.05'), datetime.date(2025, 1, 28)), ('gardnercharles', Decimal('71.67'), datetime.date(2025, 2, 20)), ('steven81', Decimal('86.42'), datetime.date(2025, 5, 1)), ('amy46', Decimal('78.38'), datetime.date(2025, 5, 1)), ('hodgesluis', Decimal('16.51'), datetime.date(2025, 1, 5)), ('hwashington', Decimal('5.13'), datetime.date(2025, 2, 11)), ('yorkkaren', Decimal('89.92'), datetime.date(2025, 3, 11)), ('raymond80', Decimal('73.05'), datetime.date(2025, 5, 10)), ('sergio82', Decimal('60.23'), datetime.date(2025, 1, 20)), ('mcintyremaria', Decimal('7.58'), datetime.date(2025, 2, 7)), ('marquezwilliam', Decimal('52.02'), datetime.date(2025, 5, 6)), ('davisjennifer', Decimal('37.88'), datetime.date(2025, 5, 15)), ('carolyn35', Decimal('78.84'), datetime.date(2025, 3, 29)), ('daltonrobert', Decimal('2.19'), datetime.date(2025, 3, 14)), ('jessica72', Decimal('39.02'), datetime.date(2025, 2, 10)), ('marquezwilliam', Decimal('59.8'), datetime.date(2025, 3, 24)), ('ahurst', Decimal('78.89'), datetime.date(2025, 3, 29)), ('james05', Decimal('86.19'), datetime.date(2025, 1, 12)), ('msexton', Decimal('44.02'), datetime.date(2025, 3, 15)), ('mitchellparker', Decimal('74.88'), datetime.date(2025, 2, 26)), ('regina75', Decimal('6.28'), datetime.date(2025, 3, 12)), ('fleon', Decimal('5.82'), datetime.date(2025, 2, 11)), ('nicholas03', Decimal('18.28'), datetime.date(2025, 4, 7)), ('vrodriguez', Decimal('42.63'), datetime.date(2025, 1, 18)), ('patrickross', Decimal('11.1'), datetime.date(2025, 2, 24)), ('danielle81', Decimal('72.63'), datetime.date(2025, 4, 8)), ('ibrown', Decimal('11.35'), datetime.date(2025, 3, 7)), ('nealbradley', Decimal('94.72'), datetime.date(2025, 3, 16)), ('stricklandmegan', Decimal('93.09'), datetime.date(2025, 4, 25)), ('abray', Decimal('29.44'), datetime.date(2025, 4, 22)), ('mitchellparker', Decimal('66.64'), datetime.date(2025, 4, 6)), ('sergio82', Decimal('95.86'), datetime.date(2025, 4, 3)), ('gutierrezdavid', Decimal('96.4'), datetime.date(2025, 3, 18)), ('esmith', Decimal('15.47'), datetime.date(2025, 4, 3)), ('travisbarajas', Decimal('1.09'), datetime.date(2025, 1, 20)), ('patrickross', Decimal('57.31'), datetime.date(2025, 2, 25)), ('obrienrobert', Decimal('47.67'), datetime.date(2025, 3, 3)), ('josephmolina', Decimal('64.88'), datetime.date(2025, 4, 25)), ('rebecca37', Decimal('70.01'), datetime.date(2025, 5, 14)), ('travisbarajas', Decimal('20.83'), datetime.date(2025, 1, 19)), ('marquezwilliam', Decimal('76.99'), datetime.date(2025, 3, 25)), ('carolyn35', Decimal('93.43'), datetime.date(2025, 2, 6)), ('sarah11', Decimal('40.96'), datetime.date(2025, 3, 19)), ('jessica50', Decimal('46.1'), datetime.date(2025, 5, 4)), ('rebeccabryant', Decimal('60.54'), datetime.date(2025, 1, 31)), ('nealbradley', Decimal('51.89'), datetime.date(2025, 4, 28)), ('laura04', Decimal('59.89'), datetime.date(2025, 3, 30)), ('josephmolina', Decimal('56.22'), datetime.date(2025, 5, 19)), ('hodgesluis', Decimal('47.03'), datetime.date(2025, 3, 28)), ('jeffreysmith', Decimal('13.53'), datetime.date(2025, 4, 21)), ('bdelacruz', Decimal('89.68'), datetime.date(2025, 5, 11)), ('rebecca37', Decimal('49.46'), datetime.date(2025, 1, 21)), ('gardnercharles', Decimal('79.46'), datetime.date(2025, 3, 13)), ('rogershenry', Decimal('50.45'), datetime.date(2025, 5, 2)), ('williambowman', Decimal('57.11'), datetime.date(2025, 2, 22)), ('lindasimpson', Decimal('19.76'), datetime.date(2025, 3, 10)), ('adamsbelinda', Decimal('30.68'), datetime.date(2025, 1, 9)), ('tlucas', Decimal('79.44'), datetime.date(2025, 1, 1)), ('mcintyremaria', Decimal('75.66'), datetime.date(2025, 4, 3)), ('sgoodman', Decimal('43.72'), datetime.date(2025, 3, 4)), ('kathy36', Decimal('11.02'), datetime.date(2025, 2, 22)), ('gregolson', Decimal('30.87'), datetime.date(2025, 2, 8)), ('qlawson', Decimal('86.45'), datetime.date(2025, 3, 2)), ('ashley42', Decimal('19.54'), datetime.date(2025, 3, 27)), ('raymond80', Decimal('58.53'), datetime.date(2025, 5, 5)), ('abray', Decimal('35.69'), datetime.date(2025, 5, 14)), ('james05', Decimal('44.13'), datetime.date(2025, 2, 11)), ('caleblin', Decimal('54.4'), datetime.date(2025, 1, 22)), ('gardnercharles', Decimal('28.59'), datetime.date(2025, 3, 28)), ('jessica72', Decimal('43.41'), datetime.date(2025, 3, 24)), ('lsmith', Decimal('97.7'), datetime.date(2025, 4, 17)), ('sgoodman', Decimal('26.03'), datetime.date(2025, 4, 7)), ('emilyharvey', Decimal('46.84'), datetime.date(2025, 2, 16)), ('raymond80', Decimal('16.82'), datetime.date(2025, 4, 19)), ('harrellroger', Decimal('28.38'), datetime.date(2025, 2, 16)), ('brownmadison', Decimal('15.19'), datetime.date(2025, 2, 26)), ('hbutler', Decimal('84.64'), datetime.date(2025, 5, 9)), ('fdominguez', Decimal('29.67'), datetime.date(2025, 3, 28)), ('georgekeith', Decimal('96.41'), datetime.date(2025, 5, 16)), ('jamesknapp', Decimal('77.15'), datetime.date(2025, 1, 16)), ('erichardson', Decimal('46.99'), datetime.date(2025, 4, 2)), ('hughesdiamond', Decimal('59.86'), datetime.date(2025, 3, 25)), ('dawn11', Decimal('28.49'), datetime.date(2025, 5, 1)), ('obrienrobert', Decimal('61.74'), datetime.date(2025, 2, 22)), ('josephmolina', Decimal('15.11'), datetime.date(2025, 1, 8)), ('nealbradley', Decimal('56.62'), datetime.date(2025, 3, 2)), ('reedsharon', Decimal('50.52'), datetime.date(2025, 4, 13)), ('patrickross', Decimal('89.51'), datetime.date(2025, 2, 6)), ('fdominguez', Decimal('59.22'), datetime.date(2025, 1, 19)), ('reedsharon', Decimal('80.21'), datetime.date(2025, 3, 6)), ('marquezwilliam', Decimal('31.97'), datetime.date(2025, 4, 15)), ('bdelacruz', Decimal('40.41'), datetime.date(2025, 4, 29)), ('hodgesluis', Decimal('49.21'), datetime.date(2025, 2, 8)), ('jessica50', Decimal('21.98'), datetime.date(2025, 5, 2)), ('caleblin', Decimal('93.91'), datetime.date(2025, 1, 26)), ('erichardson', Decimal('52.63'), datetime.date(2025, 4, 18)), ('marquezwilliam', Decimal('17.78'), datetime.date(2025, 4, 24)), ('kathy36', Decimal('43.59'), datetime.date(2025, 5, 16)), ('davisjennifer', Decimal('60.83'), datetime.date(2025, 4, 6)), ('jamesknapp', Decimal('55.23'), datetime.date(2025, 4, 2)), ('vrodriguez', Decimal('24.49'), datetime.date(2025, 3, 28)), ('kochlarry', Decimal('82.58'), datetime.date(2025, 4, 7)), ('raymond80', Decimal('41.43'), datetime.date(2025, 4, 16)), ('travisbarajas', Decimal('17.28'), datetime.date(2025, 5, 15)), ('jamesgallagher', Decimal('34.31'), datetime.date(2025, 4, 9)), ('amy46', Decimal('54.86'), datetime.date(2025, 4, 3)), ('ashley42', Decimal('91.07'), datetime.date(2025, 4, 21)), ('williambowman', Decimal('31.78'), datetime.date(2025, 4, 2)), ('williambowman', Decimal('43.09'), datetime.date(2025, 5, 18)), ('jessica72', Decimal('23.02'), datetime.date(2025, 5, 12)), ('ysmith', Decimal('59.95'), datetime.date(2025, 5, 19)), ('qlawson', Decimal('15.43'), datetime.date(2025, 1, 3)), ('obrienrobert', Decimal('42.0'), datetime.date(2025, 2, 17)), ('georgekeith', Decimal('32.31'), datetime.date(2025, 5, 9)), ('barrydean', Decimal('5.64'), datetime.date(2025, 1, 22)), ('harrellroger', Decimal('68.3'), datetime.date(2025, 3, 7)), ('stricklandmegan', Decimal('42.11'), datetime.date(2025, 5, 8)), ('pricechristopher', Decimal('45.63'), datetime.date(2025, 1, 10)), ('smcpherson', Decimal('86.15'), datetime.date(2025, 2, 2)), ('gordonsarah', Decimal('21.95'), datetime.date(2025, 3, 7)), ('sergio82', Decimal('87.56'), datetime.date(2025, 4, 10)), ('matthewjackson', Decimal('6.4'), datetime.date(2025, 2, 25)), ('wallacecorey', Decimal('37.76'), datetime.date(2025, 3, 18)), ('emilyharvey', Decimal('15.97'), datetime.date(2025, 4, 29)), ('rbrown', Decimal('11.64'), datetime.date(2025, 3, 3)), ('raymond80', Decimal('48.97'), datetime.date(2025, 3, 1)), ('williambowman', Decimal('79.81'), datetime.date(2025, 4, 5)), ('buckleyjohn', Decimal('98.45'), datetime.date(2025, 5, 4)), ('dawn11', Decimal('54.15'), datetime.date(2025, 3, 4)), ('umccoy', Decimal('92.8'), datetime.date(2025, 2, 24)), ('abray', Decimal('35.84'), datetime.date(2025, 1, 13)), ('cdoyle', Decimal('87.39'), datetime.date(2025, 5, 3)), ('rbrown', Decimal('92.11'), datetime.date(2025, 1, 16)), ('michael24', Decimal('84.87'), datetime.date(2025, 4, 29)), ('mcintyremaria', Decimal('94.32'), datetime.date(2025, 2, 13)), ('michael24', Decimal('3.21'), datetime.date(2025, 2, 20)), ('rbrown', Decimal('41.71'), datetime.date(2025, 4, 23)), ('travisbarajas', Decimal('34.36'), datetime.date(2025, 5, 13)), ('raymond80', Decimal('27.1'), datetime.date(2025, 3, 19)), ('davisjennifer', Decimal('29.07'), datetime.date(2025, 4, 22)), ('matthewjackson', Decimal('92.15'), datetime.date(2025, 4, 28)), ('brooke29', Decimal('67.15'), datetime.date(2025, 1, 25)), ('gordonsarah', Decimal('24.74'), datetime.date(2025, 2, 22)), ('mcintyremaria', Decimal('4.89'), datetime.date(2025, 2, 20)), ('sarah11', Decimal('48.02'), datetime.date(2025, 1, 5)), ('georgekeith', Decimal('7.52'), datetime.date(2025, 4, 26)), ('hodgesluis', Decimal('61.67'), datetime.date(2025, 1, 30)), ('fdominguez', Decimal('72.08'), datetime.date(2025, 4, 3)), ('ibrown', Decimal('80.83'), datetime.date(2025, 2, 2)), ('patrickross', Decimal('56.35'), datetime.date(2025, 2, 11)), ('meyerswhitney', Decimal('29.08'), datetime.date(2025, 2, 25)), ('davisjennifer', Decimal('96.8'), datetime.date(2025, 1, 27)), ('npearson', Decimal('75.25'), datetime.date(2025, 2, 16)), ('daltonrobert', Decimal('71.2'), datetime.date(2025, 3, 9)), ('reidsharon', Decimal('6.91'), datetime.date(2025, 2, 18)), ('omorrison', Decimal('90.61'), datetime.date(2025, 2, 21)), ('steven81', Decimal('20.62'), datetime.date(2025, 4, 7)), ('lindasimpson', Decimal('56.58'), datetime.date(2025, 4, 1)), ('travisbarajas', Decimal('32.79'), datetime.date(2025, 3, 11)), ('james05', Decimal('65.44'), datetime.date(2025, 1, 25)), ('stricklandmegan', Decimal('70.1'), datetime.date(2025, 5, 10)), ('hbutler', Decimal('81.49'), datetime.date(2025, 4, 18)), ('nealbradley', Decimal('6.41'), datetime.date(2025, 2, 23)), ('kathy36', Decimal('3.17'), datetime.date(2025, 3, 28)), ('brooke29', Decimal('5.92'), datetime.date(2025, 1, 30)), ('smcpherson', Decimal('43.88'), datetime.date(2025, 2, 28)), ('kochlarry', Decimal('93.08'), datetime.date(2025, 5, 15)), ('patrickross', Decimal('15.28'), datetime.date(2025, 2, 13)), ('adamsbelinda', Decimal('70.4'), datetime.date(2025, 1, 23)), ('buckleyjohn', Decimal('49.61'), datetime.date(2025, 2, 3)), ('ibrown', Decimal('64.2'), datetime.date(2025, 2, 17)), ('harrellroger', Decimal('45.66'), datetime.date(2025, 1, 20)), ('rebeccabryant', Decimal('39.41'), datetime.date(2025, 2, 5)), ('gordonsarah', Decimal('93.41'), datetime.date(2025, 3, 28)), ('coxmary', Decimal('12.08'), datetime.date(2025, 1, 9)), ('emilyharvey', Decimal('15.41'), datetime.date(2025, 1, 10)), ('hughesdiamond', Decimal('76.31'), datetime.date(2025, 5, 12)), ('rebecca37', Decimal('46.33'), datetime.date(2025, 1, 10)), ('sergio82', Decimal('61.05'), datetime.date(2025, 2, 28)), ('rebeccabryant', Decimal('93.51'), datetime.date(2025, 1, 29)), ('ibrown', Decimal('69.56'), datetime.date(2025, 2, 6)), ('pricechristopher', Decimal('18.36'), datetime.date(2025, 1, 27)), ('meganallen', Decimal('77.55'), datetime.date(2025, 1, 13)), ('rebecca37', Decimal('64.26'), datetime.date(2025, 3, 24)), ('fdominguez', Decimal('42.8'), datetime.date(2025, 4, 24)), ('omorrison', Decimal('2.75'), datetime.date(2025, 2, 1)), ('ibrown', Decimal('90.92'), datetime.date(2025, 5, 10)), ('erichardson', Decimal('68.62'), datetime.date(2025, 4, 22)), ('caleblin', Decimal('47.49'), datetime.date(2025, 2, 6)), ('reedsharon', Decimal('9.58'), datetime.date(2025, 3, 17)), ('ahurst', Decimal('54.73'), datetime.date(2025, 5, 16)), ('danielle81', Decimal('63.85'), datetime.date(2025, 1, 21)), ('rebecca37', Decimal('27.32'), datetime.date(2025, 1, 27)), ('rbrown', Decimal('1.28'), datetime.date(2025, 4, 3)), ('rebecca37', Decimal('32.1'), datetime.date(2025, 4, 30)), ('meganallen', Decimal('53.34'), datetime.date(2025, 1, 24)), ('matthewjackson', Decimal('6.16'), datetime.date(2025, 4, 1)), ('carolyn35', Decimal('1.55'), datetime.date(2025, 4, 6)), ('obrienrobert', Decimal('15.33'), datetime.date(2025, 1, 30)), ('travisbarajas', Decimal('52.13'), datetime.date(2025, 3, 20)), ('lindasimpson', Decimal('92.82'), datetime.date(2025, 5, 19)), ('matthewjackson', Decimal('3.63'), datetime.date(2025, 5, 17)), ('lsmith', Decimal('36.6'), datetime.date(2025, 4, 9)), ('jasminecarrillo', Decimal('0.08'), datetime.date(2025, 3, 10)), ('james05', Decimal('17.04'), datetime.date(2025, 2, 5)), ('wallacecorey', Decimal('18.25'), datetime.date(2025, 2, 2)), ('graykatherine', Decimal('52.47'), datetime.date(2025, 2, 16)), ('gutierrezdavid', Decimal('79.73'), datetime.date(2025, 1, 20)), ('reedsharon', Decimal('73.44'), datetime.date(2025, 5, 17)), ('regina75', Decimal('11.22'), datetime.date(2025, 1, 9)), ('barrydean', Decimal('61.08'), datetime.date(2025, 1, 14)), ('ysmith', Decimal('76.27'), datetime.date(2025, 3, 22)), ('timothybooker', Decimal('47.7'), datetime.date(2025, 1, 30)), ('smcpherson', Decimal('26.89'), datetime.date(2025, 4, 28)), ('daniel67', Decimal('42.14'), datetime.date(2025, 2, 20)), ('sgoodman', Decimal('50.51'), datetime.date(2025, 1, 4)), ('hbutler', Decimal('82.76'), datetime.date(2025, 2, 15)), ('daltonrobert', Decimal('99.9'), datetime.date(2025, 4, 23)), ('meganallen', Decimal('60.36'), datetime.date(2025, 1, 14)), ('travisbarajas', Decimal('24.55'), datetime.date(2025, 4, 1)), ('coxmary', Decimal('5.52'), datetime.date(2025, 3, 28)), ('hbutler', Decimal('72.25'), datetime.date(2025, 4, 16)), ('gardnercharles', Decimal('28.42'), datetime.date(2025, 5, 15)), ('obrienrobert', Decimal('26.24'), datetime.date(2025, 5, 11)), ('barrydean', Decimal('70.15'), datetime.date(2025, 4, 25)), ('rbrown', Decimal('64.25'), datetime.date(2025, 4, 16)), ('michael24', Decimal('31.21'), datetime.date(2025, 3, 8)), ('dawn11', Decimal('46.36'), datetime.date(2025, 5, 12)), ('reidsharon', Decimal('64.74'), datetime.date(2025, 2, 1)), ('sgoodman', Decimal('32.28'), datetime.date(2025, 4, 11)), ('buckleyjohn', Decimal('32.14'), datetime.date(2025, 1, 29)), ('ahurst', Decimal('45.3'), datetime.date(2025, 4, 13)), ('gordonsarah', Decimal('81.53'), datetime.date(2025, 4, 22)), ('stricklandmegan', Decimal('0.14'), datetime.date(2025, 2, 21)), ('sgoodman', Decimal('62.58'), datetime.date(2025, 3, 13)), ('james05', Decimal('12.29'), datetime.date(2025, 3, 14)), ('meganallen', Decimal('54.57'), datetime.date(2025, 2, 23)), ('jamesknapp', Decimal('0.91'), datetime.date(2025, 5, 10)), ('rebeccabryant', Decimal('91.82'), datetime.date(2025, 3, 8)), ('meganallen', Decimal('68.07'), datetime.date(2025, 4, 10)), ('carolyn35', Decimal('71.36'), datetime.date(2025, 4, 24)), ('msexton', Decimal('87.42'), datetime.date(2025, 3, 10)), ('amy46', Decimal('98.22'), datetime.date(2025, 4, 21)), ('caleblin', Decimal('66.99'), datetime.date(2025, 1, 6)), ('fleon', Decimal('60.54'), datetime.date(2025, 5, 2)), ('williamclark', Decimal('83.81'), datetime.date(2025, 1, 13)), ('fleon', Decimal('66.37'), datetime.date(2025, 2, 10)), ('daniel67', Decimal('68.81'), datetime.date(2025, 1, 28)), ('misty63', Decimal('40.67'), datetime.date(2025, 4, 14)), ('nicholas03', Decimal('7.24'), datetime.date(2025, 1, 20)), ('wharrison', Decimal('12.82'), datetime.date(2025, 3, 14)), ('wallacecorey', Decimal('74.62'), datetime.date(2025, 2, 24)), ('cindy20', Decimal('90.64'), datetime.date(2025, 4, 6)), ('wharrison', Decimal('23.13'), datetime.date(2025, 5, 13)), ('haley68', Decimal('89.69'), datetime.date(2025, 3, 29)), ('fdominguez', Decimal('52.24'), datetime.date(2025, 3, 28)), ('erichardson', Decimal('79.05'), datetime.date(2025, 1, 23)), ('umccoy', Decimal('56.1'), datetime.date(2025, 2, 5)), ('wharrison', Decimal('33.85'), datetime.date(2025, 5, 14)), ('pricechristopher', Decimal('88.32'), datetime.date(2025, 4, 4)), ('npearson', Decimal('72.34'), datetime.date(2025, 3, 2)), ('fdominguez', Decimal('7.49'), datetime.date(2025, 1, 25)), ('kochlarry', Decimal('82.36'), datetime.date(2025, 2, 14)), ('omorrison', Decimal('93.72'), datetime.date(2025, 2, 14)), ('npearson', Decimal('44.48'), datetime.date(2025, 1, 28)), ('steven81', Decimal('74.42'), datetime.date(2025, 2, 28)), ('hbutler', Decimal('22.83'), datetime.date(2025, 4, 8)), ('jasminecarrillo', Decimal('94.22'), datetime.date(2025, 4, 2)), ('matthew16', Decimal('35.28'), datetime.date(2025, 5, 13)), ('meganallen', Decimal('53.17'), datetime.date(2025, 3, 5)), ('fleon', Decimal('14.95'), datetime.date(2025, 4, 6)), ('hodgesluis', Decimal('96.06'), datetime.date(2025, 5, 6)), ('jamesknapp', Decimal('6.7'), datetime.date(2025, 2, 20)), ('gordonsarah', Decimal('75.48'), datetime.date(2025, 4, 2)), ('penaanita', Decimal('36.62'), datetime.date(2025, 5, 10)), ('jasminecarrillo', Decimal('54.84'), datetime.date(2025, 5, 10)), ('gordonsarah', Decimal('71.84'), datetime.date(2025, 1, 13)), ('amy46', Decimal('10.46'), datetime.date(2025, 4, 5)), ('matthewjackson', Decimal('73.35'), datetime.date(2025, 4, 21)), ('fleon', Decimal('1.81'), datetime.date(2025, 1, 13)), ('brownmadison', Decimal('55.5'), datetime.date(2025, 3, 23)), ('danielle81', Decimal('79.32'), datetime.date(2025, 1, 28)), ('jasminecarrillo', Decimal('12.56'), datetime.date(2025, 2, 19)), ('sgoodman', Decimal('48.37'), datetime.date(2025, 3, 20)), ('matthewjackson', Decimal('74.4'), datetime.date(2025, 2, 1)), ('ahurst', Decimal('57.56'), datetime.date(2025, 3, 16)), ('harrellroger', Decimal('34.64'), datetime.date(2025, 1, 28)), ('graykatherine', Decimal('90.06'), datetime.date(2025, 2, 18)), ('raymond80', Decimal('78.0'), datetime.date(2025, 2, 17)), ('jessica72', Decimal('82.59'), datetime.date(2025, 4, 29)), ('danielle81', Decimal('83.8'), datetime.date(2025, 1, 22)), ('graykatherine', Decimal('99.9'), datetime.date(2025, 4, 15)), ('gregolson', Decimal('41.43'), datetime.date(2025, 2, 27)), ('brownmadison', Decimal('40.44'), datetime.date(2025, 2, 17)), ('davisjennifer', Decimal('10.11'), datetime.date(2025, 1, 3)), ('rbrown', Decimal('98.49'), datetime.date(2025, 1, 25)), ('matthewjackson', Decimal('85.81'), datetime.date(2025, 4, 23)), ('jamesknapp', Decimal('38.16'), datetime.date(2025, 4, 9)), ('georgekeith', Decimal('86.12'), datetime.date(2025, 1, 9)), ('nealbradley', Decimal('99.38'), datetime.date(2025, 4, 3)), ('wharrison', Decimal('91.99'), datetime.date(2025, 2, 17)), ('penaanita', Decimal('49.46'), datetime.date(2025, 1, 28)), ('laura04', Decimal('80.36'), datetime.date(2025, 4, 27)), ('matthew16', Decimal('19.06'), datetime.date(2025, 2, 7)), ('nataliebuchanan', Decimal('53.95'), datetime.date(2025, 3, 8)), ('garciaamy', Decimal('85.36'), datetime.date(2025, 5, 3)), ('caleblin', Decimal('81.28'), datetime.date(2025, 5, 18)), ('jessica72', Decimal('21.43'), datetime.date(2025, 1, 8)), ('jamesknapp', Decimal('47.45'), datetime.date(2025, 4, 19)), ('mcintyremaria', Decimal('56.18'), datetime.date(2025, 1, 25)), ('gordonsarah', Decimal('2.56'), datetime.date(2025, 3, 22)), ('tlucas', Decimal('6.4'), datetime.date(2025, 1, 17)), ('reidsharon', Decimal('45.88'), datetime.date(2025, 3, 17)), ('jeffreysmith', Decimal('66.86'), datetime.date(2025, 1, 27)), ('kochlarry', Decimal('24.45'), datetime.date(2025, 1, 2)), ('sergio82', Decimal('85.14'), datetime.date(2025, 4, 16)), ('dawn11', Decimal('35.8'), datetime.date(2025, 1, 31)), ('sarah11', Decimal('76.95'), datetime.date(2025, 5, 16)), ('hughesdiamond', Decimal('96.61'), datetime.date(2025, 3, 28)), ('reidsharon', Decimal('12.43'), datetime.date(2025, 3, 11)), ('hughesdiamond', Decimal('67.84'), datetime.date(2025, 1, 25)), ('sgoodman', Decimal('36.23'), datetime.date(2025, 4, 8)), ('nataliebuchanan', Decimal('94.41'), datetime.date(2025, 5, 3)), ('fdominguez', Decimal('41.38'), datetime.date(2025, 5, 6)), ('rebeccabryant', Decimal('96.82'), datetime.date(2025, 1, 8)), ('umccoy', Decimal('82.41'), datetime.date(2025, 5, 4)), ('williambowman', Decimal('56.03'), datetime.date(2025, 4, 1)), ('steven81', Decimal('76.24'), datetime.date(2025, 2, 22)), ('nataliebuchanan', Decimal('84.03'), datetime.date(2025, 2, 14)), ('jessica72', Decimal('11.36'), datetime.date(2025, 4, 27)), ('erichardson', Decimal('50.61'), datetime.date(2025, 5, 9)), ('jessica72', Decimal('66.3'), datetime.date(2025, 3, 9)), ('yorkkaren', Decimal('89.83'), datetime.date(2025, 1, 29)), ('msexton', Decimal('78.45'), datetime.date(2025, 2, 15)), ('victoriadalton', Decimal('65.24'), datetime.date(2025, 2, 2)), ('wallacecorey', Decimal('17.4'), datetime.date(2025, 1, 28)), ('gordonsarah', Decimal('6.67'), datetime.date(2025, 1, 1)), ('reedsharon', Decimal('80.82'), datetime.date(2025, 1, 30)), ('hodgesluis', Decimal('75.78'), datetime.date(2025, 1, 23)), ('matthew16', Decimal('90.82'), datetime.date(2025, 2, 5)), ('davisjennifer', Decimal('18.05'), datetime.date(2025, 4, 19)), ('sarah11', Decimal('70.72'), datetime.date(2025, 2, 24)), ('rogershenry', Decimal('56.72'), datetime.date(2025, 3, 22)), ('dawn11', Decimal('65.78'), datetime.date(2025, 1, 3)), ('reidsharon', Decimal('50.41'), datetime.date(2025, 1, 21)), ('hughesdiamond', Decimal('15.4'), datetime.date(2025, 4, 11)), ('smcpherson', Decimal('80.55'), datetime.date(2025, 1, 3)), ('yorkkaren', Decimal('88.9'), datetime.date(2025, 2, 12)), ('robersonpamela', Decimal('15.56'), datetime.date(2025, 5, 1)), ('gregolson', Decimal('81.39'), datetime.date(2025, 2, 6)), ('lindasimpson', Decimal('27.56'), datetime.date(2025, 3, 3)), ('davisjennifer', Decimal('16.12'), datetime.date(2025, 1, 9)), ('brooke29', Decimal('42.33'), datetime.date(2025, 2, 3)), ('patrickross', Decimal('32.68'), datetime.date(2025, 1, 19)), ('daniel67', Decimal('36.11'), datetime.date(2025, 3, 18)), ('lewiskelly', Decimal('23.3'), datetime.date(2025, 2, 17)), ('kathy36', Decimal('95.38'), datetime.date(2025, 4, 27)), ('victoriadalton', Decimal('18.11'), datetime.date(2025, 4, 12)), ('jessica72', Decimal('75.57'), datetime.date(2025, 1, 20)), ('hodgesluis', Decimal('70.47'), datetime.date(2025, 2, 24)), ('pricechristopher', Decimal('96.24'), datetime.date(2025, 3, 9)), ('daltonrobert', Decimal('25.15'), datetime.date(2025, 3, 30)), ('hodgesluis', Decimal('91.1'), datetime.date(2025, 5, 18)), ('georgekeith', Decimal('33.85'), datetime.date(2025, 4, 25)), ('reedsharon', Decimal('5.91'), datetime.date(2025, 1, 14)), ('sgoodman', Decimal('95.34'), datetime.date(2025, 1, 18)), ('rbrown', Decimal('24.35'), datetime.date(2025, 3, 7)), ('regina75', Decimal('60.4'), datetime.date(2025, 1, 3)), ('meganallen', Decimal('82.23'), datetime.date(2025, 5, 3)), ('graykatherine', Decimal('72.05'), datetime.date(2025, 5, 8)), ('emilyharvey', Decimal('16.51'), datetime.date(2025, 3, 7)), ('hughesdiamond', Decimal('74.5'), datetime.date(2025, 3, 3)), ('ashley42', Decimal('45.87'), datetime.date(2025, 2, 7)), ('adamsbelinda', Decimal('97.3'), datetime.date(2025, 4, 28)), ('nicholas03', Decimal('13.7'), datetime.date(2025, 1, 6)), ('robersonpamela', Decimal('46.26'), datetime.date(2025, 2, 24)), ('haley68', Decimal('95.58'), datetime.date(2025, 1, 28)), ('obrienrobert', Decimal('71.44'), datetime.date(2025, 4, 15)), ('nicholas03', Decimal('77.3'), datetime.date(2025, 3, 21)), ('barrydean', Decimal('73.96'), datetime.date(2025, 1, 23)), ('raymond80', Decimal('0.67'), datetime.date(2025, 1, 29)), ('sgoodman', Decimal('23.44'), datetime.date(2025, 1, 17)), ('obrienrobert', Decimal('15.02'), datetime.date(2025, 5, 5)), ('patrickross', Decimal('16.54'), datetime.date(2025, 2, 4)), ('pricechristopher', Decimal('18.2'), datetime.date(2025, 5, 9)), ('qlawson', Decimal('88.49'), datetime.date(2025, 2, 23)), ('adamsbelinda', Decimal('33.31'), datetime.date(2025, 2, 7)), ('jamesknapp', Decimal('56.9'), datetime.date(2025, 2, 22)), ('brownmadison', Decimal('11.98'), datetime.date(2025, 2, 22)), ('meyerswhitney', Decimal('70.32'), datetime.date(2025, 3, 11)), ('stricklandmegan', Decimal('9.51'), datetime.date(2025, 5, 2)), ('jessica50', Decimal('69.06'), datetime.date(2025, 2, 19)), ('dawn11', Decimal('66.23'), datetime.date(2025, 4, 27)), ('nataliebuchanan', Decimal('76.43'), datetime.date(2025, 2, 22)), ('jessica72', Decimal('8.74'), datetime.date(2025, 2, 1)), ('adamsbelinda', Decimal('19.0'), datetime.date(2025, 5, 5)), ('danielle81', Decimal('71.84'), datetime.date(2025, 2, 25)), ('lindasimpson', Decimal('5.83'), datetime.date(2025, 3, 13)), ('misty63', Decimal('19.43'), datetime.date(2025, 4, 24)), ('matthew16', Decimal('18.43'), datetime.date(2025, 2, 15)), ('hbutler', Decimal('39.43'), datetime.date(2025, 2, 21)), ('nealbradley', Decimal('22.91'), datetime.date(2025, 1, 22)), ('caleblin', Decimal('26.91'), datetime.date(2025, 2, 7)), ('msexton', Decimal('1.07'), datetime.date(2025, 3, 12)), ('lindasimpson', Decimal('17.66'), datetime.date(2025, 4, 13)), ('hughesdiamond', Decimal('15.06'), datetime.date(2025, 2, 16)), ('qlawson', Decimal('40.49'), datetime.date(2025, 4, 18)), ('pricechristopher', Decimal('48.7'), datetime.date(2025, 2, 13)), ('nicholas03', Decimal('24.19'), datetime.date(2025, 5, 17)), ('sarah11', Decimal('56.61'), datetime.date(2025, 4, 17)), ('vrodriguez', Decimal('23.49'), datetime.date(2025, 4, 13)), ('abray', Decimal('90.31'), datetime.date(2025, 5, 6)), ('cdoyle', Decimal('81.18'), datetime.date(2025, 1, 9)), ('georgekeith', Decimal('61.56'), datetime.date(2025, 3, 1)), ('graykatherine', Decimal('45.98'), datetime.date(2025, 4, 16)), ('robersonpamela', Decimal('42.31'), datetime.date(2025, 1, 2)), ('dawn11', Decimal('3.71'), datetime.date(2025, 3, 31)), ('haley68', Decimal('47.24'), datetime.date(2025, 1, 18)), ('daltonrobert', Decimal('85.02'), datetime.date(2025, 4, 20)), ('jamesknapp', Decimal('99.07'), datetime.date(2025, 1, 5)), ('matthew16', Decimal('9.84'), datetime.date(2025, 2, 26)), ('yorkkaren', Decimal('93.03'), datetime.date(2025, 5, 3)), ('stricklandmegan', Decimal('30.43'), datetime.date(2025, 3, 2)), ('lindasimpson', Decimal('59.51'), datetime.date(2025, 5, 4)), ('hughesdiamond', Decimal('12.08'), datetime.date(2025, 5, 2)), ('buckleyjohn', Decimal('80.89'), datetime.date(2025, 1, 4)), ('qlawson', Decimal('43.45'), datetime.date(2025, 2, 6)), ('dawn11', Decimal('57.75'), datetime.date(2025, 3, 3)), ('carolyn35', Decimal('85.58'), datetime.date(2025, 3, 3)), ('cdoyle', Decimal('2.85'), datetime.date(2025, 1, 25)), ('matthew16', Decimal('94.57'), datetime.date(2025, 1, 23)), ('williamclark', Decimal('87.65'), datetime.date(2025, 1, 30)), ('pricechristopher', Decimal('0.74'), datetime.date(2025, 4, 28)), ('georgekeith', Decimal('93.45'), datetime.date(2025, 1, 31)), ('msexton', Decimal('45.84'), datetime.date(2025, 2, 19)), ('rebecca37', Decimal('53.61'), datetime.date(2025, 1, 7)), ('wallacecorey', Decimal('75.34'), datetime.date(2025, 2, 8)), ('rogershenry', Decimal('40.44'), datetime.date(2025, 5, 13)), ('msexton', Decimal('0.9'), datetime.date(2025, 3, 6)), ('timothybooker', Decimal('90.29'), datetime.date(2025, 2, 7)), ('cdoyle', Decimal('99.46'), datetime.date(2025, 1, 10)), ('kochlarry', Decimal('32.99'), datetime.date(2025, 3, 19))]\n"
          ]
        }
      ]
    },
    {
      "cell_type": "code",
      "source": [
        "# GROUP BY and aggregation\n",
        "conn.rollback()\n",
        "cur.execute(\"\"\"\n",
        "SELECT user_id, COUNT(*) AS total_orders, SUM(total_amount) AS total_spent -- Changed 'amount' to 'total_amount'\n",
        "FROM orders\n",
        "GROUP BY user_id;\n",
        "\"\"\")\n",
        "print(cur.fetchall())"
      ],
      "metadata": {
        "colab": {
          "base_uri": "https://localhost:8080/"
        },
        "id": "j6zP1a445GGL",
        "outputId": "40263785-807a-4d4f-e267-c412dcbc619d"
      },
      "execution_count": 52,
      "outputs": [
        {
          "output_type": "stream",
          "name": "stdout",
          "text": [
            "[(65575, 3, Decimal('192.07')), (37639, 3, Decimal('115.40')), (98062, 4, Decimal('361.68')), (21641, 6, Decimal('382.05')), (44195, 4, Decimal('270.88')), (88403, 6, Decimal('383.40')), (73311, 5, Decimal('180.37')), (51373, 5, Decimal('149.49')), (57248, 6, Decimal('322.33')), (82363, 4, Decimal('176.98')), (64737, 8, Decimal('335.16')), (15602, 2, Decimal('83.35')), (63683, 2, Decimal('130.09')), (25853, 5, Decimal('223.37')), (7715, 7, Decimal('411.22')), (25018, 2, Decimal('137.99')), (20236, 4, Decimal('225.68')), (88065, 9, Decimal('418.50')), (50968, 5, Decimal('213.57')), (6342, 7, Decimal('400.75')), (71181, 4, Decimal('184.50')), (47004, 3, Decimal('117.56')), (55777, 5, Decimal('384.23')), (62017, 5, Decimal('141.80')), (2870, 4, Decimal('231.19')), (81769, 2, Decimal('141.52')), (55548, 2, Decimal('23.97')), (32455, 7, Decimal('386.26')), (35404, 5, Decimal('297.90')), (50576, 5, Decimal('283.46')), (15428, 6, Decimal('316.99')), (11496, 4, Decimal('106.96')), (54570, 5, Decimal('225.09')), (7996, 5, Decimal('236.49')), (38964, 3, Decimal('119.29')), (98774, 6, Decimal('386.08')), (20159, 3, Decimal('232.51')), (97296, 5, Decimal('293.26')), (48274, 8, Decimal('334.24')), (34190, 6, Decimal('375.64')), (84150, 4, Decimal('257.70')), (63778, 4, Decimal('169.20')), (56127, 2, Decimal('86.08')), (77495, 8, Decimal('507.83')), (63900, 7, Decimal('498.28')), (49724, 3, Decimal('156.48')), (35720, 5, Decimal('140.71')), (94817, 9, Decimal('398.37')), (19183, 3, Decimal('170.87')), (80824, 4, Decimal('220.37')), (21275, 3, Decimal('231.31')), (29843, 4, Decimal('153.16')), (55960, 4, Decimal('94.73')), (24320, 5, Decimal('316.83')), (95031, 4, Decimal('161.79')), (89840, 2, Decimal('80.39')), (75080, 4, Decimal('157.25')), (12980, 1, Decimal('34.31')), (43961, 9, Decimal('373.99')), (6462, 7, Decimal('384.52')), (93519, 9, Decimal('443.71')), (77212, 6, Decimal('348.70')), (89325, 5, Decimal('315.46')), (10489, 2, Decimal('60.10')), (18481, 9, Decimal('371.44')), (98399, 4, Decimal('241.92')), (67170, 4, Decimal('63.46')), (50250, 2, Decimal('171.46')), (20536, 8, Decimal('371.06')), (11493, 8, Decimal('381.57')), (47158, 3, Decimal('77.90')), (55274, 6, Decimal('300.48')), (50229, 6, Decimal('257.70')), (4221, 7, Decimal('288.60')), (85194, 7, Decimal('268.86')), (26346, 4, Decimal('261.09')), (37772, 7, Decimal('449.29')), (75182, 5, Decimal('330.76')), (62963, 2, Decimal('85.84')), (85537, 6, Decimal('331.93')), (21731, 2, Decimal('17.60')), (59772, 6, Decimal('245.38')), (38337, 7, Decimal('341.90')), (63281, 2, Decimal('134.3')), (97204, 5, Decimal('274.31')), (5421, 7, Decimal('306.21')), (93390, 3, Decimal('147.06')), (503, 7, Decimal('278.77')), (6583, 9, Decimal('449.99')), (7703, 6, Decimal('266.12')), (70765, 8, Decimal('347.94')), (23749, 7, Decimal('279.44')), (33688, 3, Decimal('104.13')), (35898, 5, Decimal('238.56')), (97085, 8, Decimal('344.57')), (95692, 6, Decimal('448.83')), (84204, 4, Decimal('290.30')), (65894, 8, Decimal('235.42')), (63416, 1, Decimal('85.36')), (20425, 4, Decimal('238.03'))]\n"
          ]
        }
      ]
    },
    {
      "cell_type": "code",
      "source": [
        "cur.close()\n",
        "conn.close()\n",
        "print(\"✅ PostgreSQL connection closed.\")"
      ],
      "metadata": {
        "colab": {
          "base_uri": "https://localhost:8080/"
        },
        "id": "NcyuiOun5hKO",
        "outputId": "dcd58752-e3de-4189-bf51-2b7b8523d0ee"
      },
      "execution_count": 53,
      "outputs": [
        {
          "output_type": "stream",
          "name": "stdout",
          "text": [
            "✅ PostgreSQL connection closed.\n"
          ]
        }
      ]
    },
    {
      "cell_type": "code",
      "source": [],
      "metadata": {
        "id": "EzQfRbNP53Es"
      },
      "execution_count": null,
      "outputs": []
    }
  ]
}